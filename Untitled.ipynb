{
 "cells": [
  {
   "cell_type": "code",
   "execution_count": 2,
   "metadata": {},
   "outputs": [],
   "source": [
    "import numpy as np\n",
    "import pandas as pd"
   ]
  },
  {
   "cell_type": "code",
   "execution_count": 27,
   "metadata": {},
   "outputs": [],
   "source": [
    "def minSum(num, k):\n",
    "    for i in range(k):\n",
    "        n = num.pop(num.index(max(num)))\n",
    "        num.append(math.ceil(n/2))\n",
    "        i += 1\n",
    "    print(num)\n",
    "    return sum(num)"
   ]
  },
  {
   "cell_type": "code",
   "execution_count": 28,
   "metadata": {},
   "outputs": [
    {
     "name": "stdout",
     "output_type": "stream",
     "text": [
      "[2, 3, 3, 3, 2]\n",
      "13\n"
     ]
    }
   ],
   "source": [
    "if __name__ == '__main__':\n",
    "\n",
    "    num, k = [36, 6, 6, 2, 30], 10\n",
    "    result = minSum(num, k)\n",
    "    print(result)"
   ]
  },
  {
   "cell_type": "code",
   "execution_count": 37,
   "metadata": {},
   "outputs": [],
   "source": [
    "def getmax(arr):\n",
    "    max = 0\n",
    "    for i in range(len(num)):\n",
    "        if arr[i] > max:\n",
    "            max = arr[i]\n",
    "    return max\n",
    "\n",
    "def minSum(num, k):\n",
    "    if 0<len(num)<=math.pow(10,5)and 0<k<=math.pow(10,4):\n",
    "        for i in range(k):\n",
    "            max = getmax(num)\n",
    "            n = num.pop(num.index(max))\n",
    "            num.append(math.ceil(n/2))\n",
    "        return sum(num)\n",
    "    "
   ]
  },
  {
   "cell_type": "code",
   "execution_count": 30,
   "metadata": {},
   "outputs": [
    {
     "name": "stdout",
     "output_type": "stream",
     "text": [
      "[1, 2, 3, 9]\n",
      "9\n",
      "[1, 2, 3]\n"
     ]
    }
   ],
   "source": [
    "num = [1,2,3,9]\n",
    "\n",
    "print(num)\n",
    "print(num.pop(num.index(9)))\n",
    "print(num)"
   ]
  },
  {
   "cell_type": "code",
   "execution_count": 38,
   "metadata": {},
   "outputs": [
    {
     "name": "stdout",
     "output_type": "stream",
     "text": [
      "32\n",
      "31\n"
     ]
    }
   ],
   "source": [
    "if __name__ == '__main__':\n",
    "\n",
    "    num, k = [37, 6, 6, 2, 30], 4\n",
    "    result = minSum(num, k)\n",
    "    print(result)\n",
    "    \n",
    "a= 9+8+12+2\n",
    "print(a)"
   ]
  },
  {
   "cell_type": "code",
   "execution_count": null,
   "metadata": {},
   "outputs": [],
   "source": []
  },
  {
   "cell_type": "code",
   "execution_count": null,
   "metadata": {},
   "outputs": [],
   "source": []
  },
  {
   "cell_type": "code",
   "execution_count": 10,
   "metadata": {},
   "outputs": [],
   "source": [
    "# def getIdealNums(l, r):\n",
    "#     x, y, res = 0, 0, []\n",
    "#     while l < math.pow(3, x) * math.pow(5, y) <= r:\n",
    "#     for i in range(l, r):\n",
    "#         if i % 3 == 0 and i % 5 == 0:\n",
    "#             if math.pow(3, math.log(i, 3)) + math.pow(5, y) == i:\n",
    "#                 res.append(i)\n",
    "#             x += 1\n",
    "# if __name__ == '__main__':\n",
    "#     result = getIdealNums(l, r)"
   ]
  },
  {
   "cell_type": "markdown",
   "metadata": {},
   "source": [
    "Solving Equations\n",
    "\n",
    "        Ax = B"
   ]
  },
  {
   "cell_type": "code",
   "execution_count": 14,
   "metadata": {},
   "outputs": [],
   "source": [
    "a = np.array([[1,5,6],[1,8,9],[0,-1,6]])"
   ]
  },
  {
   "cell_type": "code",
   "execution_count": 15,
   "metadata": {},
   "outputs": [
    {
     "data": {
      "text/plain": [
       "array([[ 1,  5,  6],\n",
       "       [ 1,  8,  9],\n",
       "       [ 0, -1,  6]])"
      ]
     },
     "execution_count": 15,
     "metadata": {},
     "output_type": "execute_result"
    }
   ],
   "source": [
    "a"
   ]
  },
  {
   "cell_type": "code",
   "execution_count": 16,
   "metadata": {},
   "outputs": [],
   "source": [
    "b = np.random.random((3,1))"
   ]
  },
  {
   "cell_type": "code",
   "execution_count": 17,
   "metadata": {},
   "outputs": [
    {
     "data": {
      "text/plain": [
       "array([[0.08629995],\n",
       "       [0.0754715 ],\n",
       "       [0.42806056]])"
      ]
     },
     "execution_count": 17,
     "metadata": {},
     "output_type": "execute_result"
    }
   ],
   "source": [
    "b"
   ]
  },
  {
   "cell_type": "code",
   "execution_count": 19,
   "metadata": {},
   "outputs": [
    {
     "data": {
      "text/plain": [
       "array([[ 0.0437115 ],\n",
       "       [-0.06424535],\n",
       "       [ 0.06063587]])"
      ]
     },
     "execution_count": 19,
     "metadata": {},
     "output_type": "execute_result"
    }
   ],
   "source": [
    "x1 = np.matmul(np.linalg.inv(a),b)\n",
    "x1"
   ]
  },
  {
   "cell_type": "code",
   "execution_count": 20,
   "metadata": {},
   "outputs": [
    {
     "data": {
      "text/plain": [
       "array([[ 0.0437115 ],\n",
       "       [-0.06424535],\n",
       "       [ 0.06063587]])"
      ]
     },
     "execution_count": 20,
     "metadata": {},
     "output_type": "execute_result"
    }
   ],
   "source": [
    "x2 = np.linalg.solve(a,b)\n",
    "x2"
   ]
  },
  {
   "cell_type": "markdown",
   "metadata": {},
   "source": [
    "$$ i = 3^X * 5^Y$$"
   ]
  },
  {
   "cell_type": "code",
   "execution_count": 3,
   "metadata": {},
   "outputs": [],
   "source": [
    "import math\n",
    "i = 200\n",
    "x, y  = 6,2\n",
    "\n",
    "while l< i <= r:\n",
    "    i = np.power(3,x) * np.power(5,x)\n"
   ]
  },
  {
   "cell_type": "code",
   "execution_count": 44,
   "metadata": {},
   "outputs": [
    {
     "ename": "TypeError",
     "evalue": "return arrays must be of ArrayType",
     "output_type": "error",
     "traceback": [
      "\u001b[0;31m---------------------------------------------------------------------------\u001b[0m",
      "\u001b[0;31mTypeError\u001b[0m                                 Traceback (most recent call last)",
      "\u001b[0;32m<ipython-input-44-3397c0113277>\u001b[0m in \u001b[0;36m<module>\u001b[0;34m()\u001b[0m\n\u001b[1;32m      2\u001b[0m \u001b[0mx\u001b[0m \u001b[0;34m=\u001b[0m\u001b[0;36m2\u001b[0m\u001b[0;34m\u001b[0m\u001b[0m\n\u001b[1;32m      3\u001b[0m \u001b[0;34m\u001b[0m\u001b[0m\n\u001b[0;32m----> 4\u001b[0;31m \u001b[0my\u001b[0m \u001b[0;34m=\u001b[0m \u001b[0mnp\u001b[0m\u001b[0;34m.\u001b[0m\u001b[0mlog\u001b[0m\u001b[0;34m(\u001b[0m\u001b[0;36m3\u001b[0m\u001b[0;34m,\u001b[0m \u001b[0mx\u001b[0m\u001b[0;34m)\u001b[0m\u001b[0;34m/\u001b[0m \u001b[0mnp\u001b[0m\u001b[0;34m.\u001b[0m\u001b[0mlog\u001b[0m\u001b[0;34m(\u001b[0m\u001b[0;36m5\u001b[0m\u001b[0;34m)\u001b[0m\u001b[0;34m\u001b[0m\u001b[0m\n\u001b[0m",
      "\u001b[0;31mTypeError\u001b[0m: return arrays must be of ArrayType"
     ]
    }
   ],
   "source": [
    "y = 10\n",
    "x =2\n",
    "\n",
    "y = np.log(3, x)/ np.log(5)"
   ]
  },
  {
   "cell_type": "code",
   "execution_count": null,
   "metadata": {},
   "outputs": [],
   "source": [
    "n = math.log((1 + (FV * r) / p) / math.log(1 + r)))"
   ]
  },
  {
   "cell_type": "code",
   "execution_count": 3,
   "metadata": {},
   "outputs": [],
   "source": [
    "import math\n",
    "def check_result(x, y):\n",
    "    if 3**x * 5**y > r:\n",
    "        return len(res)\n",
    "    if l < 3**x*5**y:\n",
    "        res.add((x,y))\n",
    "    check_result(x+1, y)\n",
    "    check_result(x, y+1)\n",
    "\n",
    "def getIdealNums(l, r):\n",
    "    check_result(math.log(l,3), 0)"
   ]
  },
  {
   "cell_type": "code",
   "execution_count": 6,
   "metadata": {},
   "outputs": [
    {
     "name": "stdout",
     "output_type": "stream",
     "text": [
      "3\n",
      "3\n",
      "0\n"
     ]
    }
   ],
   "source": [
    "if __name__ == '__main__':\n",
    "\n",
    "    l = int(input().strip())\n",
    "\n",
    "    r = int(input().strip())\n",
    "    \n",
    "    res = set()\n",
    "\n",
    "    result = getIdealNums(l, r)\n",
    "    \n",
    "    print(len(res))"
   ]
  },
  {
   "cell_type": "code",
   "execution_count": null,
   "metadata": {},
   "outputs": [],
   "source": []
  },
  {
   "cell_type": "code",
   "execution_count": null,
   "metadata": {},
   "outputs": [],
   "source": [
    "def getmax(arr):\n",
    "    max = 0\n",
    "    for i in range(len(num)):\n",
    "        if arr[i] > max:\n",
    "            max = arr[i]\n",
    "    return max\n",
    "\n",
    "def minSum(num, k):\n",
    "    res = []\n",
    "    for i in range(k):\n",
    "        max = getmax(num)\n",
    "        n = num.pop(num.index(max))\n",
    "        res.append(round(n/2))\n",
    "    return sum(res)"
   ]
  },
  {
   "cell_type": "code",
   "execution_count": 42,
   "metadata": {},
   "outputs": [
    {
     "name": "stdout",
     "output_type": "stream",
     "text": [
      "ldskf\n",
      "c_ldskf.txt cpp_ldskf.txt cs_ldskf.txt\n"
     ]
    }
   ],
   "source": [
    "filename = input()\n",
    "\n",
    "c_file_name = 'c_'+ filename +'.txt'\n",
    "cpp_file_name = 'cpp_'+ filename +'.txt'\n",
    "cs_file_name = 'cs_'+ filename +'.txt'\n",
    "\n",
    "c = open(c_file_name,\"w+\")\n",
    "cpp = open(cpp_file_name,\"w+\")\n",
    "cs = open(cs_file_name,\"w+\")\n",
    "\n",
    "\n",
    "print(c_file_name, cpp_file_name, cs_file_name)"
   ]
  },
  {
   "cell_type": "code",
   "execution_count": 44,
   "metadata": {},
   "outputs": [],
   "source": [
    "f = 'Dor'"
   ]
  },
  {
   "cell_type": "code",
   "execution_count": 51,
   "metadata": {},
   "outputs": [
    {
     "name": "stdout",
     "output_type": "stream",
     "text": [
      "first.Do\n"
     ]
    }
   ],
   "source": [
    "print('first.'+ f[:f.find('_')])"
   ]
  },
  {
   "cell_type": "code",
   "execution_count": null,
   "metadata": {},
   "outputs": [],
   "source": []
  }
 ],
 "metadata": {
  "kernelspec": {
   "display_name": "Python 3",
   "language": "python",
   "name": "python3"
  }
 },
 "nbformat": 4,
 "nbformat_minor": 2
}
